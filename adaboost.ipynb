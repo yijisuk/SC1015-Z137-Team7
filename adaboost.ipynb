{
 "cells": [
  {
   "cell_type": "code",
   "execution_count": 6,
   "id": "449a6696",
   "metadata": {},
   "outputs": [],
   "source": [
    "from sklearn.ensemble import AdaBoostClassifier\n",
    "from sklearn.model_selection import GridSearchCV\n",
    "from sklearn.metrics import accuracy_score, classification_report\n",
    "import pandas as pd\n",
    "import numpy as np"
   ]
  },
  {
   "cell_type": "markdown",
   "id": "7ebececf",
   "metadata": {},
   "source": [
    "## White Win/Loss Train-Test"
   ]
  },
  {
   "cell_type": "code",
   "execution_count": 28,
   "id": "dd01a671",
   "metadata": {},
   "outputs": [],
   "source": [
    "X_train = pd.read_csv(\"data\\\\train-test-split\\white-win-loss\\wwcX_train.csv\")\n",
    "X_test = pd.read_csv(\"data\\\\train-test-split\\white-win-loss\\wwcX_test.csv\")\n",
    "y_train = pd.read_csv(\"data\\\\train-test-split\\white-win-loss\\wwcY_train.csv\")\n",
    "y_test = pd.read_csv(\"data\\\\train-test-split\\white-win-loss\\wwcY_test.csv\")"
   ]
  },
  {
   "cell_type": "code",
   "execution_count": 29,
   "id": "5cc0b76a",
   "metadata": {},
   "outputs": [
    {
     "data": {
      "text/html": [
       "<div>\n",
       "<style scoped>\n",
       "    .dataframe tbody tr th:only-of-type {\n",
       "        vertical-align: middle;\n",
       "    }\n",
       "\n",
       "    .dataframe tbody tr th {\n",
       "        vertical-align: top;\n",
       "    }\n",
       "\n",
       "    .dataframe thead th {\n",
       "        text-align: right;\n",
       "    }\n",
       "</style>\n",
       "<table border=\"1\" class=\"dataframe\">\n",
       "  <thead>\n",
       "    <tr style=\"text-align: right;\">\n",
       "      <th></th>\n",
       "      <th>W</th>\n",
       "    </tr>\n",
       "  </thead>\n",
       "  <tbody>\n",
       "    <tr>\n",
       "      <th>0</th>\n",
       "      <td>0</td>\n",
       "    </tr>\n",
       "    <tr>\n",
       "      <th>1</th>\n",
       "      <td>0</td>\n",
       "    </tr>\n",
       "    <tr>\n",
       "      <th>2</th>\n",
       "      <td>1</td>\n",
       "    </tr>\n",
       "  </tbody>\n",
       "</table>\n",
       "</div>"
      ],
      "text/plain": [
       "   W\n",
       "0  0\n",
       "1  0\n",
       "2  1"
      ]
     },
     "execution_count": 29,
     "metadata": {},
     "output_type": "execute_result"
    }
   ],
   "source": [
    "y_test.head(3)"
   ]
  },
  {
   "cell_type": "code",
   "execution_count": 33,
   "id": "e8bec7b5",
   "metadata": {},
   "outputs": [
    {
     "name": "stdout",
     "output_type": "stream",
     "text": [
      "Fitting 5 folds for each of 1 candidates, totalling 5 fits\n",
      "Fitting 5 folds for each of 1 candidates, totalling 5 fits\n",
      "Fitting 5 folds for each of 1 candidates, totalling 5 fits\n",
      "Fitting 5 folds for each of 1 candidates, totalling 5 fits\n",
      "Fitting 5 folds for each of 1 candidates, totalling 5 fits\n",
      "Fitting 5 folds for each of 1 candidates, totalling 5 fits\n",
      "Fitting 5 folds for each of 1 candidates, totalling 5 fits\n",
      "Fitting 5 folds for each of 1 candidates, totalling 5 fits\n",
      "Fitting 5 folds for each of 1 candidates, totalling 5 fits\n",
      "Fitting 5 folds for each of 1 candidates, totalling 5 fits\n",
      "Fitting 5 folds for each of 1 candidates, totalling 5 fits\n",
      "Fitting 5 folds for each of 1 candidates, totalling 5 fits\n",
      "Fitting 5 folds for each of 1 candidates, totalling 5 fits\n",
      "Fitting 5 folds for each of 1 candidates, totalling 5 fits\n",
      "Fitting 5 folds for each of 1 candidates, totalling 5 fits\n",
      "Fitting 5 folds for each of 1 candidates, totalling 5 fits\n",
      "Fitting 5 folds for each of 1 candidates, totalling 5 fits\n",
      "Fitting 5 folds for each of 1 candidates, totalling 5 fits\n",
      "Fitting 5 folds for each of 1 candidates, totalling 5 fits\n",
      "Fitting 5 folds for each of 1 candidates, totalling 5 fits\n",
      "Fitting 5 folds for each of 1 candidates, totalling 5 fits\n",
      "Fitting 5 folds for each of 1 candidates, totalling 5 fits\n",
      "Fitting 5 folds for each of 1 candidates, totalling 5 fits\n",
      "Fitting 5 folds for each of 1 candidates, totalling 5 fits\n",
      "Fitting 5 folds for each of 1 candidates, totalling 5 fits\n",
      "Fitting 5 folds for each of 1 candidates, totalling 5 fits\n",
      "Fitting 5 folds for each of 1 candidates, totalling 5 fits\n",
      "Fitting 5 folds for each of 1 candidates, totalling 5 fits\n",
      "Fitting 5 folds for each of 1 candidates, totalling 5 fits\n",
      "Fitting 5 folds for each of 1 candidates, totalling 5 fits\n",
      "Best hyperparameters: OrderedDict([('algorithm', 'SAMME.R'), ('learning_rate', 0.0990326026579075), ('n_estimators', 1000)])\n",
      "Accuracy score: 0.6852895162869466\n",
      "Accuracy of AdaBoostClassifier: 0.68663880523631\n"
     ]
    }
   ],
   "source": [
    "from skopt import BayesSearchCV\n",
    "\n",
    "# Convert y_train and y_test column vectors to 1-dimensional arrays\n",
    "y_train = np.ravel(y_train)\n",
    "y_test = np.ravel(y_test)\n",
    "\n",
    "# Define the search space for hyperparameters\n",
    "hyperparameters = {\n",
    "    'n_estimators': (50, 1000),\n",
    "    'learning_rate': (0.01, 1.0, 'log-uniform'),\n",
    "    'algorithm': ['SAMME', 'SAMME.R']\n",
    "}\n",
    "\n",
    "# Create AdaBoostClassifier object\n",
    "adaboost_clf = AdaBoostClassifier()\n",
    "\n",
    "# Define the search object with BayesSearchCV\n",
    "search = BayesSearchCV(\n",
    "    adaboost_clf,\n",
    "    hyperparameters,\n",
    "    n_iter=30,\n",
    "    cv=5,\n",
    "    n_jobs=-1,\n",
    "    verbose=1\n",
    ")\n",
    "\n",
    "# Fit the search object on the training data\n",
    "search.fit(X_train, y_train)\n",
    "\n",
    "# Print the best hyperparameters and accuracy score\n",
    "print('Best hyperparameters:', search.best_params_)\n",
    "print('Accuracy score:', search.best_score_)\n",
    "\n",
    "# Make predictions on test data\n",
    "y_pred = search.predict(X_test)\n",
    "\n",
    "# Evaluate the accuracy of the model\n",
    "accuracy = accuracy_score(y_test, y_pred)\n",
    "print('Accuracy of AdaBoostClassifier:', accuracy)"
   ]
  },
  {
   "cell_type": "markdown",
   "id": "cf89c096",
   "metadata": {},
   "source": [
    "## White Termination Train-Test"
   ]
  },
  {
   "cell_type": "code",
   "execution_count": 34,
   "id": "c4f1379f",
   "metadata": {},
   "outputs": [],
   "source": [
    "X_train = pd.read_csv(\"data\\\\train-test-split\\white-termination\\wtcX_train.csv\")\n",
    "X_test = pd.read_csv(\"data\\\\train-test-split\\white-termination\\wtcX_test.csv\")\n",
    "y_train = pd.read_csv(\"data\\\\train-test-split\\white-termination\\wtcY_train.csv\")\n",
    "y_test = pd.read_csv(\"data\\\\train-test-split\\white-termination\\wtcY_test.csv\")"
   ]
  },
  {
   "cell_type": "code",
   "execution_count": null,
   "id": "454cf36e",
   "metadata": {},
   "outputs": [],
   "source": [
    "y_train = np.ravel(y_train)\n",
    "y_test = np.ravel(y_test)\n",
    "\n",
    "# Create AdaBoostClassifier object\n",
    "adaboost_clf = AdaBoostClassifier(n_estimators=1000, learning_rate=0.1, random_state=30, algorithm='SAMME.R')\n",
    "\n",
    "# Fit the model on the training data\n",
    "adaboost_clf.fit(X_train, y_train)\n",
    "\n",
    "# Make predictions on test data\n",
    "y_pred = adaboost_clf.predict(X_test)"
   ]
  },
  {
   "cell_type": "code",
   "execution_count": 37,
   "id": "f64f152d",
   "metadata": {
    "scrolled": true
   },
   "outputs": [
    {
     "name": "stdout",
     "output_type": "stream",
     "text": [
      "Classification Report:\n",
      "               precision    recall  f1-score   support\n",
      "\n",
      "           0     0.3751    0.3838    0.3794     53123\n",
      "           1     0.3832    0.2706    0.3172     53396\n",
      "           2     0.4934    0.6204    0.5497     56191\n",
      "\n",
      "    accuracy                         0.4283    162710\n",
      "   macro avg     0.4172    0.4249    0.4154    162710\n",
      "weighted avg     0.4186    0.4283    0.4178    162710\n",
      "\n"
     ]
    }
   ],
   "source": [
    "report = classification_report(y_test, y_pred, digits=4)\n",
    "print(\"Classification Report:\\n\", report)"
   ]
  },
  {
   "cell_type": "markdown",
   "id": "03babc19",
   "metadata": {},
   "source": [
    "## Black Win/Loss Train-Test"
   ]
  },
  {
   "cell_type": "code",
   "execution_count": 38,
   "id": "dadc8380",
   "metadata": {},
   "outputs": [],
   "source": [
    "X_train = pd.read_csv(\"data\\\\train-test-split\\\\black-win-loss\\\\bwcX_train.csv\")\n",
    "X_test = pd.read_csv(\"data\\\\train-test-split\\\\black-win-loss\\\\bwcX_test.csv\")\n",
    "y_train = pd.read_csv(\"data\\\\train-test-split\\\\black-win-loss\\\\bwcY_train.csv\")\n",
    "y_test = pd.read_csv(\"data\\\\train-test-split\\\\black-win-loss\\\\bwcY_test.csv\")"
   ]
  },
  {
   "cell_type": "code",
   "execution_count": 39,
   "id": "52819bcd",
   "metadata": {},
   "outputs": [
    {
     "name": "stdout",
     "output_type": "stream",
     "text": [
      "Accuracy of AdaBoostClassifier: 0.6853666031589946\n"
     ]
    }
   ],
   "source": [
    "y_train = np.ravel(y_train)\n",
    "y_test = np.ravel(y_test)\n",
    "\n",
    "# Create AdaBoostClassifier object\n",
    "adaboost_clf = AdaBoostClassifier(n_estimators=1000, learning_rate=0.1, random_state=30, algorithm='SAMME.R')\n",
    "\n",
    "# Fit the model on the training data\n",
    "adaboost_clf.fit(X_train, y_train)\n",
    "\n",
    "# Make predictions on test data\n",
    "y_pred = adaboost_clf.predict(X_test)\n",
    "\n",
    "# Evaluate the accuracy of the model\n",
    "accuracy = accuracy_score(y_test, y_pred)\n",
    "print('Accuracy of AdaBoostClassifier:', accuracy)"
   ]
  },
  {
   "cell_type": "markdown",
   "id": "b06d36a7",
   "metadata": {},
   "source": [
    "## Black Termination Train-Test"
   ]
  },
  {
   "cell_type": "code",
   "execution_count": 40,
   "id": "8fa70086",
   "metadata": {},
   "outputs": [],
   "source": [
    "X_train = pd.read_csv(\"data\\\\train-test-split\\\\black-termination\\\\btcX_train.csv\")\n",
    "X_test = pd.read_csv(\"data\\\\train-test-split\\\\black-termination\\\\btcX_test.csv\")\n",
    "y_train = pd.read_csv(\"data\\\\train-test-split\\\\black-termination\\\\btcY_train.csv\")\n",
    "y_test = pd.read_csv(\"data\\\\train-test-split\\\\black-termination\\\\btcY_test.csv\")"
   ]
  },
  {
   "cell_type": "code",
   "execution_count": 41,
   "id": "ebb1793e",
   "metadata": {},
   "outputs": [
    {
     "name": "stdout",
     "output_type": "stream",
     "text": [
      "Classification Report:\n",
      "               precision    recall  f1-score   support\n",
      "\n",
      "           0     0.3743    0.4000    0.3867     53123\n",
      "           1     0.3835    0.2530    0.3049     53396\n",
      "           2     0.4934    0.6209    0.5498     56191\n",
      "\n",
      "    accuracy                         0.4280    162710\n",
      "   macro avg     0.4171    0.4246    0.4138    162710\n",
      "weighted avg     0.4185    0.4280    0.4162    162710\n",
      "\n"
     ]
    }
   ],
   "source": [
    "y_train = np.ravel(y_train)\n",
    "y_test = np.ravel(y_test)\n",
    "\n",
    "# Create AdaBoostClassifier object\n",
    "adaboost_clf = AdaBoostClassifier(n_estimators=1000, learning_rate=0.1, random_state=30, algorithm='SAMME.R')\n",
    "\n",
    "# Fit the model on the training data\n",
    "adaboost_clf.fit(X_train, y_train)\n",
    "\n",
    "# Make predictions on test data\n",
    "y_pred = adaboost_clf.predict(X_test)\n",
    "\n",
    "report = classification_report(y_test, y_pred, digits=4)\n",
    "print(\"Classification Report:\\n\", report)"
   ]
  },
  {
   "cell_type": "code",
   "execution_count": null,
   "id": "94f4c22e",
   "metadata": {},
   "outputs": [],
   "source": []
  },
  {
   "cell_type": "code",
   "execution_count": null,
   "id": "f297702d",
   "metadata": {},
   "outputs": [],
   "source": []
  },
  {
   "cell_type": "code",
   "execution_count": null,
   "id": "06482b3b",
   "metadata": {},
   "outputs": [],
   "source": []
  },
  {
   "cell_type": "code",
   "execution_count": null,
   "id": "021d6975",
   "metadata": {},
   "outputs": [],
   "source": []
  },
  {
   "cell_type": "code",
   "execution_count": null,
   "id": "29fce326",
   "metadata": {},
   "outputs": [],
   "source": []
  },
  {
   "cell_type": "code",
   "execution_count": null,
   "id": "9808cca7",
   "metadata": {},
   "outputs": [],
   "source": []
  },
  {
   "cell_type": "code",
   "execution_count": null,
   "id": "39a93741",
   "metadata": {},
   "outputs": [],
   "source": []
  },
  {
   "cell_type": "code",
   "execution_count": null,
   "id": "bc194e67",
   "metadata": {},
   "outputs": [],
   "source": []
  }
 ],
 "metadata": {
  "kernelspec": {
   "display_name": "Python 3 (ipykernel)",
   "language": "python",
   "name": "python3"
  },
  "language_info": {
   "codemirror_mode": {
    "name": "ipython",
    "version": 3
   },
   "file_extension": ".py",
   "mimetype": "text/x-python",
   "name": "python",
   "nbconvert_exporter": "python",
   "pygments_lexer": "ipython3",
   "version": "3.9.12"
  }
 },
 "nbformat": 4,
 "nbformat_minor": 5
}
