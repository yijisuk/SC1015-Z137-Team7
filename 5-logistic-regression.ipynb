{
 "cells": [
  {
   "attachments": {},
   "cell_type": "markdown",
   "metadata": {},
   "source": [
    "# **5. Logistic Regression**"
   ]
  },
  {
   "cell_type": "code",
   "execution_count": null,
   "metadata": {},
   "outputs": [],
   "source": [
    "import numpy as np\n",
    "import pandas as pd\n",
    "import seaborn as sns\n",
    "import matplotlib.pyplot as plt\n",
    "\n",
    "from sklearn.linear_model import LogisticRegression\n",
    "from sklearn.model_selection import train_test_split\n",
    "from sklearn.metrics import classification_report,confusion_matrix"
   ]
  },
  {
   "cell_type": "code",
   "execution_count": null,
   "metadata": {},
   "outputs": [],
   "source": [
    "wwcX_train=pd.read_csv('train-test-split\\white-win-loss\\wwcX_train.csv')\n",
    "wwcX_test=pd.read_csv('train-test-split\\white-win-loss\\wwcX_test.csv')\n",
    "wwcY_train=pd.read_csv('train-test-split\\white-win-loss\\wwcY_train.csv')\n",
    "wwcY_test=pd.read_csv('train-test-split\\white-win-loss\\wwcY_test.csv')\n",
    "\n",
    "wtcX_train=pd.read_csv('train-test-split\\white-termination\\wtcX_train.csv')\n",
    "wtcX_test=pd.read_csv('train-test-split\\white-termination\\wtcX_test.csv')\n",
    "wtcY_train=pd.read_csv('train-test-split\\white-termination\\wtcY_train.csv')\n",
    "wtcY_test=pd.read_csv('train-test-split\\white-termination\\wtcY_test.csv')\n",
    "\n",
    "bwcX_train=pd.read_csv('train-test-split/black-win-loss/bwcX_train.csv')\n",
    "bwcX_test=pd.read_csv('train-test-split/black-win-loss/bwcX_test.csv')\n",
    "bwcY_train=pd.read_csv('train-test-split/black-win-loss/bwcY_train.csv')\n",
    "bwcY_test=pd.read_csv('train-test-split/black-win-loss/bwcY_test.csv')\n",
    "\n",
    "btcX_train=pd.read_csv('train-test-split/black-termination/btcX_train.csv')\n",
    "btcX_test=pd.read_csv('train-test-split/black-termination/btcX_test.csv')\n",
    "btcY_train=pd.read_csv('train-test-split/black-termination/btcY_train.csv')\n",
    "btcY_test=pd.read_csv('train-test-split/black-termination/btcY_test.csv')"
   ]
  },
  {
   "attachments": {},
   "cell_type": "markdown",
   "metadata": {},
   "source": [
    "## **White**"
   ]
  },
  {
   "attachments": {},
   "cell_type": "markdown",
   "metadata": {},
   "source": [
    "### 1) White Win/Loss Classification"
   ]
  },
  {
   "cell_type": "code",
   "execution_count": null,
   "metadata": {},
   "outputs": [
    {
     "name": "stdout",
     "output_type": "stream",
     "text": [
      "White Win/Loss Classification Report:\n",
      "              precision    recall  f1-score   support\n",
      "\n",
      "           0       0.69      0.67      0.68     79792\n",
      "           1       0.69      0.71      0.70     82918\n",
      "\n",
      "    accuracy                           0.69    162710\n",
      "   macro avg       0.69      0.69      0.69    162710\n",
      "weighted avg       0.69      0.69      0.69    162710\n",
      "\n",
      "\n",
      "\n",
      "[[53138 26654]\n",
      " [24427 58491]]\n"
     ]
    }
   ],
   "source": [
    "log_wwc=LogisticRegression()\n",
    "\n",
    "log_wwc.fit(wwcX_train, wwcY_train)\n",
    "wwcY_pred = log_wwc.predict(wwcX_test)\n",
    "\n",
    "print(\"White Win/Loss Classification Report:\")\n",
    "print(classification_report(wwcY_test, wwcY_pred))\n",
    "print('\\n')\n",
    "print(confusion_matrix(wwcY_test, wwcY_pred))"
   ]
  },
  {
   "attachments": {},
   "cell_type": "markdown",
   "metadata": {},
   "source": [
    "### 2) White Termination Classification"
   ]
  },
  {
   "cell_type": "code",
   "execution_count": null,
   "metadata": {},
   "outputs": [
    {
     "name": "stderr",
     "output_type": "stream",
     "text": [
      "C:\\Users\\o\\miniconda3\\lib\\site-packages\\sklearn\\utils\\validation.py:1143: DataConversionWarning: A column-vector y was passed when a 1d array was expected. Please change the shape of y to (n_samples, ), for example using ravel().\n",
      "  y = column_or_1d(y, warn=True)\n"
     ]
    },
    {
     "name": "stdout",
     "output_type": "stream",
     "text": [
      "White Termination Classification Report:\n",
      "              precision    recall  f1-score   support\n",
      "\n",
      "           0       0.38      0.47      0.42     53123\n",
      "           1       0.40      0.18      0.25     53396\n",
      "           2       0.49      0.63      0.55     56191\n",
      "\n",
      "    accuracy                           0.43    162710\n",
      "   macro avg       0.42      0.43      0.41    162710\n",
      "weighted avg       0.42      0.43      0.41    162710\n",
      "\n",
      "\n",
      "\n",
      "[[24950  9705 18468]\n",
      " [25171  9607 18618]\n",
      " [16133  4672 35386]]\n"
     ]
    }
   ],
   "source": [
    "### White Termination Classification\n",
    "log_wtc = LogisticRegression()\n",
    "log_wtc.fit(wtcX_train, wtcY_train)\n",
    "wtcY_pred = log_wtc.predict(wtcX_test)\n",
    "\n",
    "print(\"White Termination Classification Report:\")\n",
    "print(classification_report(wtcY_test, wtcY_pred))\n",
    "print('\\n')\n",
    "print(confusion_matrix(wtcY_test, wtcY_pred))"
   ]
  },
  {
   "attachments": {},
   "cell_type": "markdown",
   "metadata": {},
   "source": [
    "## **Black**"
   ]
  },
  {
   "cell_type": "code",
   "execution_count": null,
   "metadata": {},
   "outputs": [
    {
     "name": "stderr",
     "output_type": "stream",
     "text": [
      "C:\\Users\\o\\miniconda3\\lib\\site-packages\\sklearn\\utils\\validation.py:1143: DataConversionWarning: A column-vector y was passed when a 1d array was expected. Please change the shape of y to (n_samples, ), for example using ravel().\n",
      "  y = column_or_1d(y, warn=True)\n"
     ]
    },
    {
     "name": "stdout",
     "output_type": "stream",
     "text": [
      "Win/Loss Classification Report:\n",
      "              precision    recall  f1-score   support\n",
      "\n",
      "           0       0.69      0.71      0.70     83059\n",
      "           1       0.69      0.66      0.67     79651\n",
      "\n",
      "    accuracy                           0.69    162710\n",
      "   macro avg       0.69      0.68      0.68    162710\n",
      "weighted avg       0.69      0.69      0.69    162710\n",
      "\n",
      "\n",
      "\n",
      "[[59002 24057]\n",
      " [27129 52522]]\n"
     ]
    },
    {
     "name": "stderr",
     "output_type": "stream",
     "text": [
      "C:\\Users\\o\\miniconda3\\lib\\site-packages\\sklearn\\utils\\validation.py:1143: DataConversionWarning: A column-vector y was passed when a 1d array was expected. Please change the shape of y to (n_samples, ), for example using ravel().\n",
      "  y = column_or_1d(y, warn=True)\n"
     ]
    },
    {
     "name": "stdout",
     "output_type": "stream",
     "text": [
      "Termination Classification Report:\n",
      "              precision    recall  f1-score   support\n",
      "\n",
      "           0       0.38      0.46      0.41     53123\n",
      "           1       0.40      0.19      0.26     53396\n",
      "           2       0.49      0.63      0.55     56191\n",
      "\n",
      "    accuracy                           0.43    162710\n",
      "   macro avg       0.42      0.43      0.41    162710\n",
      "weighted avg       0.42      0.43      0.41    162710\n",
      "\n",
      "\n",
      "\n",
      "[[53123     0     0]\n",
      " [    0 53396     0]\n",
      " [    0     0 56191]]\n"
     ]
    }
   ],
   "source": [
    "### Black Win/Loss Classification\n",
    "log_bwc = LogisticRegression()\n",
    "log_bwc.fit(bwcX_train, bwcY_train)\n",
    "bwcY_pred = log_bwc.predict(bwcX_test)\n",
    "\n",
    "print(\"Win/Loss Classification Report:\")\n",
    "print(classification_report(bwcY_test, bwcY_pred))\n",
    "print('\\n')\n",
    "print(confusion_matrix(bwcY_test, bwcY_pred))\n",
    "\n",
    "### Black Termination Classification\n",
    "log_btc = LogisticRegression()\n",
    "log_btc.fit(btcX_train, btcY_train)\n",
    "btcY_pred = log_btc.predict(btcX_test)\n",
    "\n",
    "print(\"Termination Classification Report:\")\n",
    "print(classification_report(btcY_test, btcY_pred))\n",
    "print('\\n')\n",
    "print(confusion_matrix(btcY_test, btcY_test))"
   ]
  }
 ],
 "metadata": {
  "language_info": {
   "name": "python"
  },
  "orig_nbformat": 4
 },
 "nbformat": 4,
 "nbformat_minor": 2
}
